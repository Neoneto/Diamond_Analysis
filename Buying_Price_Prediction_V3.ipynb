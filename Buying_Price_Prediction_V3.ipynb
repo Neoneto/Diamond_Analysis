{
  "nbformat": 4,
  "nbformat_minor": 0,
  "metadata": {
    "colab": {
      "name": "Buying_Price_Prediction_V3.ipynb",
      "provenance": [],
      "include_colab_link": true
    },
    "kernelspec": {
      "name": "python3",
      "display_name": "Python 3"
    },
    "language_info": {
      "name": "python"
    }
  },
  "cells": [
    {
      "cell_type": "markdown",
      "metadata": {
        "id": "view-in-github",
        "colab_type": "text"
      },
      "source": [
        "<a href=\"https://colab.research.google.com/github/Neoneto/Diamond_Analysis/blob/main/Buying_Price_Prediction_V3.ipynb\" target=\"_parent\"><img src=\"https://colab.research.google.com/assets/colab-badge.svg\" alt=\"Open In Colab\"/></a>"
      ]
    },
    {
      "cell_type": "markdown",
      "source": [
        "# Buying Price Prediction\n",
        "Using Convolutional Neural Network, a model that can predict the price per carat of a diamond based on its image is created. The model is trained using several images of diamonds. Even though I have access to the extracted information of the diamonds, in the real world, ordinary buyers don't or doesn't understand any of those in the first place and can only look at the diamond so in this model, only the price an dthe images are used.\n",
        "The problem is a regression problem and Deep Learning was used, which is typically used for classification problems."
      ],
      "metadata": {
        "id": "olbwNI1LvymS"
      }
    },
    {
      "cell_type": "markdown",
      "source": [
        "# Import Libraries and Dataset\n"
      ],
      "metadata": {
        "id": "MnTbMtE4v2MJ"
      }
    },
    {
      "cell_type": "code",
      "source": [
        "# import libraries\n",
        "import os\n",
        "import cv2\n",
        "import numpy as np\n",
        "import pandas as pd\n",
        "import matplotlib.pyplot as plt"
      ],
      "metadata": {
        "id": "JOTL5jU_3fqH"
      },
      "execution_count": null,
      "outputs": []
    },
    {
      "cell_type": "code",
      "source": [
        "from sklearn.model_selection import train_test_split"
      ],
      "metadata": {
        "id": "ZIEGe2Fg4Cgp"
      },
      "execution_count": null,
      "outputs": []
    },
    {
      "cell_type": "code",
      "execution_count": null,
      "metadata": {
        "id": "kCfOfcek3bM3"
      },
      "outputs": [],
      "source": [
        "from tensorflow.keras.models import Sequential\n",
        "from tensorflow.keras.layers import Dense, Flatten, Conv2D, MaxPooling2D, Dropout\n",
        "from tensorflow.keras.utils import to_categorical\n",
        "from tensorflow.keras.datasets import mnist"
      ]
    },
    {
      "cell_type": "code",
      "source": [
        "# mount google drive\n",
        "from google.colab import drive\n",
        "drive.mount('/content/drive')"
      ],
      "metadata": {
        "colab": {
          "base_uri": "https://localhost:8080/"
        },
        "id": "BJIFUxup3hrO",
        "outputId": "ce17e9eb-e406-44b0-f2e0-e1a03827ae61"
      },
      "execution_count": null,
      "outputs": [
        {
          "output_type": "stream",
          "name": "stdout",
          "text": [
            "Mounted at /content/drive\n"
          ]
        }
      ]
    },
    {
      "cell_type": "code",
      "source": [
        "# Define the path to the images\n",
        "image_path = '/content/drive/My Drive/Coding Dojo/Diamonds/Images/images'    "
      ],
      "metadata": {
        "id": "_j0oePrx3syP"
      },
      "execution_count": null,
      "outputs": []
    },
    {
      "cell_type": "code",
      "source": [
        "# Define the path to the original dataset\n",
        "# Will be used for the price\n",
        "path = '/content/drive/My Drive/Coding Dojo/Diamonds/diamonds_preprocessed.csv'                \n",
        "pre_processed = pd.read_csv(path)    "
      ],
      "metadata": {
        "id": "1CkJoGmf3vFQ"
      },
      "execution_count": null,
      "outputs": []
    },
    {
      "cell_type": "markdown",
      "source": [
        "# Preparing the Data for the Model"
      ],
      "metadata": {
        "id": "qL4b7CtUybDD"
      }
    },
    {
      "cell_type": "code",
      "source": [
        "# Initialize an array to hold the price per carat of each diamond\n",
        "prices_per_carat = []\n",
        "\n",
        "# loop through the separate folders containing the images\n",
        "# Open only the JPEG files, PNG images in the data are not real images of the diamonds\n",
        "# Open every other image (to reduce the memory used, not necessary for powerful hardware)\n",
        "# Check if the image is of the right size\n",
        "  # Other aspect ratios are dropped\n",
        "  # to maintain info about the aspect ratio\n",
        "  # Padding might affct results\n",
        "# Images are resized before storing\n",
        "  # Not necessary for powerful hardware\n",
        "# Look for the price of the diamond in the other dataset and store it\n",
        "def load_images_from_folder(folder):\n",
        "    # Initialize an array to store images\n",
        "    images = []\n",
        "    i = 0\n",
        "    for filename in os.listdir(folder):\n",
        "        i += 1\n",
        "        if filename.endswith(\".jpg\"):\n",
        "          if i%2 == 0:\n",
        "              img = cv2.imread(os.path.join(folder, filename))\n",
        "              if img is not None:\n",
        "                if np.shape(np.array(img)) == (300,300,3):\n",
        "                  if pre_processed.price_per_carat.loc[pre_processed.Id == filename.split('.')[0]].max() < pre_processed.price_per_carat.quantile(0.99)and pre_processed.price_per_carat.loc[pre_processed.Id == filename.split('.')[0]].max() > pre_processed.price_per_carat.quantile(0.01):\n",
        "                      \n",
        "                          images.append(cv2.resize(img, (0, 0), fx=0.25, fy=0.25))#(img)\n",
        "                          prices_per_carat.append(pre_processed.price_per_carat.loc[pre_processed.Id == filename.split('.')[0]].max())\n",
        "    return images\n",
        "\n",
        "root_folder = image_path\n",
        "folders = [os.path.join(root_folder, x) for x in ('round', 'princess', 'pear', 'oval', 'marquise', 'heart', 'emerald', 'cushion')]\n",
        "all_images = [img for folder in folders for img in load_images_from_folder(folder)]"
      ],
      "metadata": {
        "id": "pZNdjaki3y-r"
      },
      "execution_count": null,
      "outputs": []
    },
    {
      "cell_type": "code",
      "source": [
        "# Define target and features\n",
        "# Convert them to numpy arrays\n",
        "X = np.array(all_images)\n",
        "y = np.array(prices_per_carat)\n",
        "\n",
        "# Attempt to convert the problem into classification, fails\n",
        "# Group the prices into price categories\n",
        "# y = np.floor(y/y.max()*10).astype(int)\n",
        "\n",
        "# split to test and train\n",
        "X_train, X_test, y_train, y_test = train_test_split(X, y, random_state=42,)"
      ],
      "metadata": {
        "id": "I-YRn9Vq4bir"
      },
      "execution_count": null,
      "outputs": []
    },
    {
      "cell_type": "code",
      "source": [
        "# Convert the targets into pandas dataframe\n",
        "y_train = pd.DataFrame(y_train)\n",
        "y_test = pd.DataFrame(y_test)"
      ],
      "metadata": {
        "id": "kQoDygL38DOt"
      },
      "execution_count": null,
      "outputs": []
    },
    {
      "cell_type": "code",
      "source": [
        "# Scale data between 0 and 1 since images\n",
        "X_train = X_train / 255"
      ],
      "metadata": {
        "id": "1lURd3WT4iIJ"
      },
      "execution_count": null,
      "outputs": []
    },
    {
      "cell_type": "code",
      "source": [
        "X_test = X_test / 255"
      ],
      "metadata": {
        "id": "Nho9QkqO4k9F"
      },
      "execution_count": null,
      "outputs": []
    },
    {
      "cell_type": "code",
      "source": [
        "# Read the input shape\n",
        "input_shape = X_test.shape[1:]\n",
        "input_shape"
      ],
      "metadata": {
        "colab": {
          "base_uri": "https://localhost:8080/"
        },
        "id": "uS4g45BB8YUJ",
        "outputId": "cbbaa690-8cc6-4df9-d79b-cbeba2bb36e7"
      },
      "execution_count": null,
      "outputs": [
        {
          "output_type": "execute_result",
          "data": {
            "text/plain": [
              "(75, 75, 3)"
            ]
          },
          "metadata": {},
          "execution_count": 12
        }
      ]
    },
    {
      "cell_type": "markdown",
      "source": [
        "# CNN"
      ],
      "metadata": {
        "id": "mzC7l4M8yVrQ"
      }
    },
    {
      "cell_type": "code",
      "source": [
        "#from keras.layers.normalization import BatchNormalization\n",
        "\n",
        "# Initialize the model and the layers\n",
        "model = Sequential()\n",
        "#model.add(Dense(256, activation='relu', input_dim=366))\n",
        "model.add(Conv2D(64, (3, 3), activation='relu', input_shape = input_shape))\n",
        "\n",
        "model.add(MaxPooling2D(pool_size=(2, 2)))\n",
        "\n",
        "#model.add(Conv2D(64, (3, 3), activation='relu', input_shape = input_shape))\n",
        "\n",
        "model.add(Conv2D(64, (3, 3), activation='relu', input_shape = input_shape))\n",
        "#model.add(Conv2D(128, (3, 3), activation='relu'))\n",
        "#model.add(Conv2D(64, (3, 3), init='uniform'))\n",
        "\n",
        "model.add(MaxPooling2D(pool_size=(2, 2)))\n",
        "\n",
        "model.add(Flatten())\n",
        "\n",
        "# For Regression\n",
        "model.add(Dense(512, activation='relu'))\n",
        "model.add(Dropout(0.1))\n",
        "model.add(Dense(256, activation='relu'))\n",
        "model.add(Dense(128, activation='relu'))\n",
        "model.add(Dense(1, activation='linear'))\n",
        "\n",
        "# Complie the Model\n",
        "model.compile(loss='mean_squared_error', # one may use 'mean_absolute_error' as  mean_squared_error\n",
        "                  optimizer='adam',\n",
        "                  metrics=['mean_squared_error'] # you can add several if needed\n",
        "                 )\n",
        "\n",
        "model.summary()\n",
        "\n",
        "# Code adapted from https://stackoverflow.com/questions/45528285/cnn-image-recognition-with-regression-output-on-tensorflow"
      ],
      "metadata": {
        "colab": {
          "base_uri": "https://localhost:8080/"
        },
        "id": "oOi7j-tt9UEe",
        "outputId": "90c0f23e-646f-40a0-aba1-620a9f68f1a4"
      },
      "execution_count": null,
      "outputs": [
        {
          "output_type": "stream",
          "name": "stdout",
          "text": [
            "Model: \"sequential\"\n",
            "_________________________________________________________________\n",
            " Layer (type)                Output Shape              Param #   \n",
            "=================================================================\n",
            " conv2d (Conv2D)             (None, 73, 73, 64)        1792      \n",
            "                                                                 \n",
            " max_pooling2d (MaxPooling2D  (None, 36, 36, 64)       0         \n",
            " )                                                               \n",
            "                                                                 \n",
            " conv2d_1 (Conv2D)           (None, 34, 34, 64)        36928     \n",
            "                                                                 \n",
            " max_pooling2d_1 (MaxPooling  (None, 17, 17, 64)       0         \n",
            " 2D)                                                             \n",
            "                                                                 \n",
            " flatten (Flatten)           (None, 18496)             0         \n",
            "                                                                 \n",
            " dense (Dense)               (None, 512)               9470464   \n",
            "                                                                 \n",
            " dropout (Dropout)           (None, 512)               0         \n",
            "                                                                 \n",
            " dense_1 (Dense)             (None, 256)               131328    \n",
            "                                                                 \n",
            " dense_2 (Dense)             (None, 128)               32896     \n",
            "                                                                 \n",
            " dense_3 (Dense)             (None, 1)                 129       \n",
            "                                                                 \n",
            "=================================================================\n",
            "Total params: 9,673,537\n",
            "Trainable params: 9,673,537\n",
            "Non-trainable params: 0\n",
            "_________________________________________________________________\n"
          ]
        }
      ]
    },
    {
      "cell_type": "markdown",
      "source": [
        "The model used two convolutional layers and 2 pooling layers to avoid overfitting."
      ],
      "metadata": {
        "id": "OCdtlvPVytnQ"
      }
    },
    {
      "cell_type": "code",
      "source": [
        "# Step 3: Fit our model\n",
        "history = model.fit(X_train, y_train,\n",
        "                    validation_data = (X_test, y_test), \n",
        "                    epochs=20)"
      ],
      "metadata": {
        "colab": {
          "base_uri": "https://localhost:8080/"
        },
        "id": "nbd07t2X94ns",
        "outputId": "a1ab8fc1-6081-408f-e2c5-3a88318d6744"
      },
      "execution_count": null,
      "outputs": [
        {
          "output_type": "stream",
          "name": "stdout",
          "text": [
            "Epoch 1/20\n",
            "54/54 [==============================] - 26s 472ms/step - loss: 2877729.7500 - mean_squared_error: 2877729.7500 - val_loss: 743549.8125 - val_mean_squared_error: 743549.8125\n",
            "Epoch 2/20\n",
            "54/54 [==============================] - 25s 466ms/step - loss: 836715.9375 - mean_squared_error: 836715.9375 - val_loss: 739431.0625 - val_mean_squared_error: 739431.0625\n",
            "Epoch 3/20\n",
            "54/54 [==============================] - 25s 466ms/step - loss: 904993.8125 - mean_squared_error: 904993.8125 - val_loss: 810758.7500 - val_mean_squared_error: 810758.7500\n",
            "Epoch 4/20\n",
            "54/54 [==============================] - 25s 467ms/step - loss: 834940.4375 - mean_squared_error: 834940.4375 - val_loss: 727054.3125 - val_mean_squared_error: 727054.3125\n",
            "Epoch 5/20\n",
            "54/54 [==============================] - 25s 466ms/step - loss: 839053.0000 - mean_squared_error: 839053.0000 - val_loss: 731050.6250 - val_mean_squared_error: 731050.6250\n",
            "Epoch 6/20\n",
            "54/54 [==============================] - 25s 462ms/step - loss: 811484.1250 - mean_squared_error: 811484.1250 - val_loss: 743566.7500 - val_mean_squared_error: 743566.7500\n",
            "Epoch 7/20\n",
            "54/54 [==============================] - 25s 464ms/step - loss: 804142.5625 - mean_squared_error: 804142.5625 - val_loss: 718330.5625 - val_mean_squared_error: 718330.5625\n",
            "Epoch 8/20\n",
            "54/54 [==============================] - 25s 464ms/step - loss: 835421.1875 - mean_squared_error: 835421.1875 - val_loss: 679054.7500 - val_mean_squared_error: 679054.7500\n",
            "Epoch 9/20\n",
            "54/54 [==============================] - 25s 468ms/step - loss: 803902.3125 - mean_squared_error: 803902.3125 - val_loss: 729812.1875 - val_mean_squared_error: 729812.1875\n",
            "Epoch 10/20\n",
            "54/54 [==============================] - 25s 466ms/step - loss: 774145.4375 - mean_squared_error: 774145.4375 - val_loss: 651435.3750 - val_mean_squared_error: 651435.3750\n",
            "Epoch 11/20\n",
            "54/54 [==============================] - 25s 464ms/step - loss: 778145.7500 - mean_squared_error: 778145.7500 - val_loss: 740155.5625 - val_mean_squared_error: 740155.5625\n",
            "Epoch 12/20\n",
            "54/54 [==============================] - 25s 464ms/step - loss: 771107.3750 - mean_squared_error: 771107.3750 - val_loss: 635187.5625 - val_mean_squared_error: 635187.5625\n",
            "Epoch 13/20\n",
            "54/54 [==============================] - 25s 466ms/step - loss: 746560.7500 - mean_squared_error: 746560.7500 - val_loss: 701891.5625 - val_mean_squared_error: 701891.5625\n",
            "Epoch 14/20\n",
            "54/54 [==============================] - 25s 467ms/step - loss: 707510.1250 - mean_squared_error: 707510.1250 - val_loss: 652002.1875 - val_mean_squared_error: 652002.1875\n",
            "Epoch 15/20\n",
            "54/54 [==============================] - 25s 467ms/step - loss: 661863.6250 - mean_squared_error: 661863.6250 - val_loss: 588126.2500 - val_mean_squared_error: 588126.2500\n",
            "Epoch 16/20\n",
            "54/54 [==============================] - 25s 462ms/step - loss: 703857.0000 - mean_squared_error: 703857.0000 - val_loss: 569524.5000 - val_mean_squared_error: 569524.5000\n",
            "Epoch 17/20\n",
            "54/54 [==============================] - 25s 466ms/step - loss: 739665.3750 - mean_squared_error: 739665.3750 - val_loss: 878611.2500 - val_mean_squared_error: 878611.2500\n",
            "Epoch 18/20\n",
            "54/54 [==============================] - 25s 464ms/step - loss: 687327.5625 - mean_squared_error: 687327.5625 - val_loss: 729995.0000 - val_mean_squared_error: 729995.0000\n",
            "Epoch 19/20\n",
            "54/54 [==============================] - 25s 467ms/step - loss: 694146.8125 - mean_squared_error: 694146.8125 - val_loss: 985844.7500 - val_mean_squared_error: 985844.7500\n",
            "Epoch 20/20\n",
            "54/54 [==============================] - 25s 467ms/step - loss: 680197.5000 - mean_squared_error: 680197.5000 - val_loss: 668036.1875 - val_mean_squared_error: 668036.1875\n"
          ]
        }
      ]
    },
    {
      "cell_type": "markdown",
      "source": [
        "# Model Evaluation"
      ],
      "metadata": {
        "id": "G0M0hxf8zw4I"
      }
    },
    {
      "cell_type": "code",
      "source": [
        "# Create the test predictions\n",
        "y_pred = model.predict(X_test)"
      ],
      "metadata": {
        "id": "HGQ1FAySFlI4"
      },
      "execution_count": null,
      "outputs": []
    },
    {
      "cell_type": "code",
      "source": [
        "# Compare the most accurate prediction\n",
        "# Smallest error\n",
        "abs(y_test - y_pred).min()"
      ],
      "metadata": {
        "colab": {
          "base_uri": "https://localhost:8080/"
        },
        "id": "osjrWr-JFuEr",
        "outputId": "2fff7289-ef0a-4c01-935d-d454c4405407"
      },
      "execution_count": null,
      "outputs": [
        {
          "output_type": "execute_result",
          "data": {
            "text/plain": [
              "0    0.427646\n",
              "dtype: float64"
            ]
          },
          "metadata": {},
          "execution_count": 41
        }
      ]
    },
    {
      "cell_type": "code",
      "source": [
        "# Largest error\n",
        "abs(y_test - y_pred).max()"
      ],
      "metadata": {
        "colab": {
          "base_uri": "https://localhost:8080/"
        },
        "id": "cEAlsGIL8jNU",
        "outputId": "67c6695e-0a94-44de-d8d3-0257f79e7e2d"
      },
      "execution_count": null,
      "outputs": [
        {
          "output_type": "execute_result",
          "data": {
            "text/plain": [
              "0    4712.3315\n",
              "dtype: float64"
            ]
          },
          "metadata": {},
          "execution_count": 42
        }
      ]
    },
    {
      "cell_type": "code",
      "source": [
        "# Check the mean of the absolute error\n",
        "abs(y_test - y_pred).mean()"
      ],
      "metadata": {
        "colab": {
          "base_uri": "https://localhost:8080/"
        },
        "id": "yEoAdzpWJaKE",
        "outputId": "a4490994-79a5-4a4a-a014-fb6c1e9995f4"
      },
      "execution_count": null,
      "outputs": [
        {
          "output_type": "execute_result",
          "data": {
            "text/plain": [
              "0    552.871684\n",
              "dtype: float64"
            ]
          },
          "metadata": {},
          "execution_count": 17
        }
      ]
    },
    {
      "cell_type": "code",
      "source": [
        "# Show one of the images and the predicted price compared to the actual\n",
        "n = 4\n",
        "print(f'Actual Price: {y_test.to_numpy()[n]}')\n",
        "print(f'Predicted Price: {y_pred[n]}')\n",
        "percent = abs(y_pred[n] / y_test.to_numpy()[n] - 1)\n",
        "print(f'Percent Error: {percent.round(3)}')\n",
        "plt.imshow(X_test[n])"
      ],
      "metadata": {
        "colab": {
          "base_uri": "https://localhost:8080/",
          "height": 337
        },
        "id": "Y9GL1A5VJkwK",
        "outputId": "392f42f2-4fe2-414c-b56b-1f52414a8589"
      },
      "execution_count": null,
      "outputs": [
        {
          "output_type": "stream",
          "name": "stdout",
          "text": [
            "Actual Price: [3970.3]\n",
            "Predicted Price: [3758.3184]\n",
            "Percent Error: [0.053]\n"
          ]
        },
        {
          "output_type": "execute_result",
          "data": {
            "text/plain": [
              "<matplotlib.image.AxesImage at 0x7fbe6c2c8190>"
            ]
          },
          "metadata": {},
          "execution_count": 40
        },
        {
          "output_type": "display_data",
          "data": {
            "image/png": "[encoded data removed]",
            "text/plain": [
              "<Figure size 432x288 with 1 Axes>"
            ]
          },
          "metadata": {
            "needs_background": "light"
          }
        }
      ]
    }
  ]
}